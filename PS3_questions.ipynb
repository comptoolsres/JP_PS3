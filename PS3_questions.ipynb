{
 "cells": [
  {
   "cell_type": "code",
   "execution_count": 65,
   "metadata": {},
   "outputs": [
    {
     "name": "stdout",
     "output_type": "stream",
     "text": [
      "6.647\n",
      "2018-10-10 18:06\n"
     ]
    }
   ],
   "source": [
    "# Question 1\n",
    "\n",
    "#Un-comment these lines if you want to make this more generalizable and run as a python script\n",
    "#import sys \n",
    "#args = sys.argv\n",
    "#infile = args[1] \n",
    "\n",
    "infile = open(\"CO-OPS__8729108__wl.csv\", 'r')\n",
    "\n",
    "water_level = []\n",
    "for line in infile:\n",
    "    line = line.strip()\n",
    "    columns = line.split(',')    \n",
    "    row = columns[1]\n",
    "    water_level.append(row)\n",
    "        \n",
    "maximum=max(water_level)\n",
    "print(str(maximum))\n",
    "\n",
    "infile = open(\"CO-OPS__8729108__wl.csv\", 'r') #need to open file twice, since first for loop closes file at end\n",
    "\n",
    "for line in infile:\n",
    "    line = line.strip()\n",
    "    columns = line.split(',')\n",
    "    rows = columns[1]\n",
    "    if maximum in rows:\n",
    "         print(columns[0])"
   ]
  },
  {
   "cell_type": "code",
   "execution_count": null,
   "metadata": {},
   "outputs": [],
   "source": []
  }
 ],
 "metadata": {
  "kernelspec": {
   "display_name": "Python 3.8 (full)",
   "language": "python",
   "name": "python3-3.8-ufrc"
  },
  "language_info": {
   "codemirror_mode": {
    "name": "ipython",
    "version": 3
   },
   "file_extension": ".py",
   "mimetype": "text/x-python",
   "name": "python",
   "nbconvert_exporter": "python",
   "pygments_lexer": "ipython3",
   "version": "3.8.5"
  }
 },
 "nbformat": 4,
 "nbformat_minor": 4
}
