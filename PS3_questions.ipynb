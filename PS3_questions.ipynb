{
 "cells": [
  {
   "cell_type": "code",
   "execution_count": 67,
   "metadata": {},
   "outputs": [
    {
     "name": "stdout",
     "output_type": "stream",
     "text": [
      "The highest water level was 6.647 on 2018-10-10 18:06\n"
     ]
    }
   ],
   "source": [
    "# Question 1\n",
    "\n",
    "#Un-comment these lines if you want to make this more generalizable and run as a python script\n",
    "#import sys \n",
    "#args = sys.argv\n",
    "#infile = args[1] \n",
    "\n",
    "infile = open(\"CO-OPS__8729108__wl.csv\", 'r') #open file \n",
    "\n",
    "water_level = [] #set up empty list \n",
    "for line in infile: #for loop through file for each line\n",
    "    line = line.strip() #remove white space at end of each line \n",
    "    columns = line.split(',') #split lines based delimited by comma    \n",
    "    row = columns[1] #set row as variable for water level (second column)\n",
    "    water_level.append(row) #write water levels to new list \n",
    "        \n",
    "maximum=max(water_level) #get maximum of water level list \n",
    "\n",
    "infile = open(\"CO-OPS__8729108__wl.csv\", 'r') #need to open file twice, since first for loop closes file at end\n",
    "\n",
    "for line in infile: \n",
    "    line = line.strip()\n",
    "    columns = line.split(',')\n",
    "    rows = columns[1]\n",
    "    if maximum in rows: #if the maximum value is in a row, print the corresponding first column (date + time)\n",
    "        date = columns[0]\n",
    "        print(f\"The highest water level was {maximum} on {date}.\")"
   ]
  },
  {
   "cell_type": "code",
   "execution_count": 25,
   "metadata": {},
   "outputs": [
    {
     "name": "stdout",
     "output_type": "stream",
     "text": [
      "The avergae water level was 2.9823232044198904.\n",
      "The maximum water level was 6.647 on 2018-10-10 18:06.\n",
      "The lowest water level was 1.621 on 2018-10-11 15:36.\n"
     ]
    }
   ],
   "source": [
    "# Question 2\n",
    "\n",
    "#Un-comment these lines if you want to make this more generalizable and run as a python script\n",
    "#import sys \n",
    "#args = sys.argv\n",
    "#infile = args[1] \n",
    "import re\n",
    "infile = open(\"CO-OPS__8729108__wl.csv\", 'r')\n",
    "\n",
    "water_level = []\n",
    "for line in infile:\n",
    "    line = line.strip()\n",
    "    columns = line.split(',')    \n",
    "    row = columns[1]\n",
    "    if not \"Water\" in line: #removes header line\n",
    "        if re.match(r'^\\s*$', row): #removes line without any numbers \n",
    "            continue\n",
    "        else: \n",
    "            water_level.append(row)\n",
    "\n",
    "water_level_num=[]\n",
    "for i in range(0, len(water_level)): \n",
    "    water_level_num.append(float(water_level[i]))\n",
    "\n",
    "\n",
    "minimum=min(water_level)\n",
    "maximum=max(water_level)\n",
    "average= (sum(water_level_num)) / len(water_level_num)\n",
    "print(f\"The avergae water level was {average}.\")\n",
    "#print(sum(str(water_level)))\n",
    "\n",
    "infile = open(\"CO-OPS__8729108__wl.csv\", 'r') #need to open file twice, since first for loop closes file at end\n",
    "\n",
    "for line in infile:\n",
    "    line = line.strip()\n",
    "    columns = line.split(',')\n",
    "    rows = columns[1]\n",
    "    if minimum == rows:\n",
    "        min_date = columns[0]\n",
    "        print(f\"The lowest water level was {minimum} on {min_date}.\")\n",
    "    elif average == rows:\n",
    "        avg_date = columns[0]\n",
    "        print(f\"The avearge water level was {average} on {avg_date}.\")\n",
    "    elif maximum in rows:\n",
    "        max_date = columns [0]\n",
    "        print(f\"The maximum water level was {maximum} on {max_date}.\")"
   ]
  },
  {
   "cell_type": "code",
   "execution_count": 81,
   "metadata": {},
   "outputs": [
    {
     "name": "stdout",
     "output_type": "stream",
     "text": [
      "The fastest rise in water level was 0.6400000000000006 on 2018-10-10 17:42\n"
     ]
    }
   ],
   "source": [
    "# Question 3\n",
    "\n",
    "infile = open(\"CO-OPS__8729108__wl.csv\", 'r')\n",
    "\n",
    "water_levels = []\n",
    "for line in infile:\n",
    "    line = line.strip()\n",
    "    columns = line.split(',')    \n",
    "    row = columns[1]\n",
    "    if not \"Water\" in line: #removes header line\n",
    "        if re.match(r'^\\s*$', row): #removes line without any numbers \n",
    "            continue\n",
    "        else: \n",
    "            water_levels.append(float(row))\n",
    "        \n",
    "water_changes = []\n",
    "for i in range(len(water_levels)-1):\n",
    "    water_change = (water_levels[i+1]-water_levels[i])\n",
    "    water_changes.append(water_change) \n",
    "    \n",
    "maximum = max(water_changes)\n",
    "\n",
    "for i in range(len(water_levels)-1):\n",
    "    delta = (water_levels[i+1] - water_levels[i])\n",
    "    if delta == maximum:\n",
    "        max_delta_lev = water_levels[i+1]\n",
    "\n",
    "#print(max_delta_lev)\n",
    "        \n",
    "infile = open(\"CO-OPS__8729108__wl.csv\", 'r')\n",
    "        \n",
    "for line in infile:\n",
    "    line = line.strip()\n",
    "    columns = line.split(',')    \n",
    "    rows = columns[1]\n",
    "    if str(max_delta_lev) in rows:\n",
    "        max_day = columns[0]\n",
    "\n",
    "print(f\"The fastest rise in water level was {maximum} on {max_day}\")"
   ]
  },
  {
   "cell_type": "code",
   "execution_count": null,
   "metadata": {},
   "outputs": [],
   "source": [
    "# Question 4\n"
   ]
  },
  {
   "cell_type": "code",
   "execution_count": null,
   "metadata": {},
   "outputs": [],
   "source": []
  }
 ],
 "metadata": {
  "kernelspec": {
   "display_name": "Python 3.8 (full)",
   "language": "python",
   "name": "python3-3.8-ufrc"
  },
  "language_info": {
   "codemirror_mode": {
    "name": "ipython",
    "version": 3
   },
   "file_extension": ".py",
   "mimetype": "text/x-python",
   "name": "python",
   "nbconvert_exporter": "python",
   "pygments_lexer": "ipython3",
   "version": "3.8.5"
  }
 },
 "nbformat": 4,
 "nbformat_minor": 4
}
