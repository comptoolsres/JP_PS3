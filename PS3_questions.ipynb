{
 "cells": [
  {
   "cell_type": "code",
   "execution_count": 67,
   "metadata": {},
   "outputs": [
    {
     "name": "stdout",
     "output_type": "stream",
     "text": [
      "The highest water level was 6.647 on 2018-10-10 18:06\n"
     ]
    }
   ],
   "source": [
    "# Question 1\n",
    "\n",
    "#Un-comment these lines if you want to make this more generalizable and run as a python script\n",
    "#import sys \n",
    "#args = sys.argv\n",
    "#infile = args[1] \n",
    "\n",
    "infile = open(\"CO-OPS__8729108__wl.csv\", 'r')\n",
    "\n",
    "water_level = []\n",
    "for line in infile:\n",
    "    line = line.strip()\n",
    "    columns = line.split(',')    \n",
    "    row = columns[1]\n",
    "    water_level.append(row)\n",
    "        \n",
    "maximum=max(water_level)\n",
    "\n",
    "infile = open(\"CO-OPS__8729108__wl.csv\", 'r') #need to open file twice, since first for loop closes file at end\n",
    "\n",
    "for line in infile:\n",
    "    line = line.strip()\n",
    "    columns = line.split(',')\n",
    "    rows = columns[1]\n",
    "    if maximum in rows:\n",
    "        date = columns[0]\n",
    "        print(f\"The highest water level was {maximum} on {date}.\")"
   ]
  },
  {
   "cell_type": "code",
   "execution_count": 105,
   "metadata": {},
   "outputs": [
    {
     "ename": "TypeError",
     "evalue": "float() argument must be a string or a number, not 'list'",
     "output_type": "error",
     "traceback": [
      "\u001b[0;31m---------------------------------------------------------------------------\u001b[0m",
      "\u001b[0;31mTypeError\u001b[0m                                 Traceback (most recent call last)",
      "\u001b[0;32m<ipython-input-105-70ef77cce4c9>\u001b[0m in \u001b[0;36m<module>\u001b[0;34m\u001b[0m\n\u001b[1;32m     23\u001b[0m \u001b[0mmaximum\u001b[0m\u001b[0;34m=\u001b[0m\u001b[0mmax\u001b[0m\u001b[0;34m(\u001b[0m\u001b[0mwater_level\u001b[0m\u001b[0;34m)\u001b[0m\u001b[0;34m\u001b[0m\u001b[0;34m\u001b[0m\u001b[0m\n\u001b[1;32m     24\u001b[0m \u001b[0;31m#verage= int(sum(water_level)) / len(water_level)\u001b[0m\u001b[0;34m\u001b[0m\u001b[0;34m\u001b[0m\u001b[0;34m\u001b[0m\u001b[0m\n\u001b[0;32m---> 25\u001b[0;31m \u001b[0mprint\u001b[0m\u001b[0;34m(\u001b[0m\u001b[0msum\u001b[0m\u001b[0;34m(\u001b[0m\u001b[0mfloat\u001b[0m\u001b[0;34m(\u001b[0m\u001b[0mwater_level\u001b[0m\u001b[0;34m)\u001b[0m\u001b[0;34m)\u001b[0m\u001b[0;34m)\u001b[0m\u001b[0;34m\u001b[0m\u001b[0;34m\u001b[0m\u001b[0m\n\u001b[0m\u001b[1;32m     26\u001b[0m \u001b[0;34m\u001b[0m\u001b[0m\n\u001b[1;32m     27\u001b[0m \u001b[0minfile\u001b[0m \u001b[0;34m=\u001b[0m \u001b[0mopen\u001b[0m\u001b[0;34m(\u001b[0m\u001b[0;34m\"CO-OPS__8729108__wl.csv\"\u001b[0m\u001b[0;34m,\u001b[0m \u001b[0;34m'r'\u001b[0m\u001b[0;34m)\u001b[0m \u001b[0;31m#need to open file twice, since first for loop closes file at end\u001b[0m\u001b[0;34m\u001b[0m\u001b[0;34m\u001b[0m\u001b[0m\n",
      "\u001b[0;31mTypeError\u001b[0m: float() argument must be a string or a number, not 'list'"
     ]
    }
   ],
   "source": [
    "# Question 2\n",
    "\n",
    "#Un-comment these lines if you want to make this more generalizable and run as a python script\n",
    "#import sys \n",
    "#args = sys.argv\n",
    "#infile = args[1] \n",
    "import re\n",
    "infile = open(\"CO-OPS__8729108__wl.csv\", 'r')\n",
    "\n",
    "water_level = []\n",
    "for line in infile:\n",
    "    line = line.strip()\n",
    "    columns = line.split(',')    \n",
    "    row = columns[1]\n",
    "    if not \"Water\" in line: #removes header line\n",
    "        if re.match(r'^\\s*$', row): #removes line without any numbers \n",
    "            continue\n",
    "        else: \n",
    "            #print(row)\n",
    "            water_level.append(row)\n",
    "        \n",
    "minimum=min(water_level)\n",
    "maximum=max(water_level)\n",
    "#verage= int(sum(water_level)) / len(water_level)\n",
    "print(sum(float(water_level)))\n",
    "\n",
    "infile = open(\"CO-OPS__8729108__wl.csv\", 'r') #need to open file twice, since first for loop closes file at end\n",
    "\n",
    "for line in infile:\n",
    "    line = line.strip()\n",
    "    columns = line.split(',')\n",
    "    rows = columns[1]\n",
    "    if minimum == rows:\n",
    "        min_date = columns[0]\n",
    "        print(f\"The lowest water level was {minimum} on {min_date}.\")\n",
    "   #elif average == rows:\n",
    "   #    avg_date = columns[0]\n",
    "   #    print(f\"The avearge water level was {average} on {avg_date}.\")\n",
    "    elif maximum in rows:\n",
    "        max_date = columns [0]\n",
    "        print(f\"The maximum water level was {maximum} on {max_date}.\")"
   ]
  },
  {
   "cell_type": "code",
   "execution_count": null,
   "metadata": {},
   "outputs": [],
   "source": []
  }
 ],
 "metadata": {
  "kernelspec": {
   "display_name": "Python 3.8 (full)",
   "language": "python",
   "name": "python3-3.8-ufrc"
  },
  "language_info": {
   "codemirror_mode": {
    "name": "ipython",
    "version": 3
   },
   "file_extension": ".py",
   "mimetype": "text/x-python",
   "name": "python",
   "nbconvert_exporter": "python",
   "pygments_lexer": "ipython3",
   "version": "3.8.5"
  }
 },
 "nbformat": 4,
 "nbformat_minor": 4
}
